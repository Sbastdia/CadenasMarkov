{
 "cells": [
  {
   "cell_type": "markdown",
   "id": "aef404c7-48ee-4ac2-a1db-ba8060926d6f",
   "metadata": {},
   "source": [
    "**DTW**"
   ]
  },
  {
   "cell_type": "code",
   "execution_count": 5,
   "id": "242ad737-9d40-4cf9-acb7-8d6dc52c972e",
   "metadata": {},
   "outputs": [],
   "source": [
    "#DTW es una técnica utilizada para comparar dinámicamente datos de series de tiempo \n",
    "#cuando los índices de tiempo entre los puntos de datos de comparación no se sincronizan perfectamente.\n",
    "\n",
    "#La coincidencia óptima se denota por la coincidencia que satisface todas las restricciones y reglas\n",
    "#y que tiene el costo mínimo, donde el costo se calcula como la suma de las diferencias absolutas, \n",
    "#para cada par de índices coincidentes, entre sus valores.\n",
    "\n",
    "\n",
    "import numpy as np\n",
    "\n",
    "def dtw(s, t):\n",
    "    n, m = len(s), len(t)\n",
    "    dtw_matrix = np.zeros((n+1, m+1))\n",
    "    for i in range(n+1):\n",
    "        for j in range(m+1):\n",
    "            dtw_matrix[i, j] = np.inf\n",
    "    dtw_matrix[0, 0] = 0\n",
    "    \n",
    "    for i in range(1, n+1):\n",
    "        for j in range(1, m+1):\n",
    "            cost = abs(s[i-1] - t[j-1])\n",
    "            # take last min from a square box\n",
    "            last_min = np.min([dtw_matrix[i-1, j], dtw_matrix[i, j-1], dtw_matrix[i-1, j-1]])\n",
    "            dtw_matrix[i, j] = cost + last_min\n",
    "    return dtw_matrix"
   ]
  },
  {
   "cell_type": "code",
   "execution_count": 6,
   "id": "d958afc6-60a6-438f-ac56-6cea3ae12d4d",
   "metadata": {},
   "outputs": [
    {
     "data": {
      "text/plain": [
       "array([[ 0., inf, inf, inf, inf, inf],\n",
       "       [inf,  1.,  2.,  3.,  5.,  8.],\n",
       "       [inf,  1.,  1.,  1.,  2.,  4.],\n",
       "       [inf,  2.,  2.,  2.,  1.,  2.]])"
      ]
     },
     "execution_count": 6,
     "metadata": {},
     "output_type": "execute_result"
    }
   ],
   "source": [
    "a = [1, 2, 3]\n",
    "b = [2, 2, 2, 3, 4]\n",
    "\n",
    "dtw(a, b)"
   ]
  },
  {
   "cell_type": "markdown",
   "id": "72ef6c63-cde1-4ab4-845d-0eaf67236c86",
   "metadata": {},
   "source": [
    "**AGREGAR RESTRICCIÓN DE VENTANA**\n"
   ]
  },
  {
   "cell_type": "code",
   "execution_count": 7,
   "id": "57cd3aa5-d2b1-4c25-90b7-39dd69e79ba6",
   "metadata": {},
   "outputs": [],
   "source": [
    "#A veces queremos agregar una restricción de localidad\n",
    "\n",
    "#Podemos modificar fácilmente el algoritmo anterior para agregar una restricción de localidad:\n",
    "\n",
    "def dtw(s, t, window):\n",
    "    n, m = len(s), len(t)\n",
    "    w = np.max([window, abs(n-m)])\n",
    "    dtw_matrix = np.zeros((n+1, m+1))\n",
    "    \n",
    "    for i in range(n+1):\n",
    "        for j in range(m+1):\n",
    "            dtw_matrix[i, j] = np.inf\n",
    "    dtw_matrix[0, 0] = 0\n",
    "    \n",
    "    for i in range(1, n+1):\n",
    "        for j in range(np.max([1, i-w]), np.min([m, i+w])+1):\n",
    "            dtw_matrix[i, j] = 0\n",
    "    \n",
    "    for i in range(1, n+1):\n",
    "        for j in range(np.max([1, i-w]), np.min([m, i+w])+1):\n",
    "            cost = abs(s[i-1] - t[j-1])\n",
    "            # take last min from a square box\n",
    "            last_min = np.min([dtw_matrix[i-1, j], dtw_matrix[i, j-1], dtw_matrix[i-1, j-1]])\n",
    "            dtw_matrix[i, j] = cost + last_min\n",
    "    return dtw_matrix\n"
   ]
  },
  {
   "cell_type": "code",
   "execution_count": 8,
   "id": "ae668cff-5c0b-4157-b793-799854dde011",
   "metadata": {},
   "outputs": [
    {
     "data": {
      "text/plain": [
       "array([[ 0., inf, inf, inf, inf, inf, inf, inf, inf],\n",
       "       [inf,  0.,  1.,  2.,  3., inf, inf, inf, inf],\n",
       "       [inf,  1.,  0.,  0.,  0.,  0., inf, inf, inf],\n",
       "       [inf,  3.,  1.,  1.,  1.,  1.,  1., inf, inf],\n",
       "       [inf,  5.,  2.,  2.,  2.,  2.,  2.,  2., inf],\n",
       "       [inf, inf,  5.,  5.,  5.,  5.,  5.,  5.,  3.]])"
      ]
     },
     "execution_count": 8,
     "metadata": {},
     "output_type": "execute_result"
    }
   ],
   "source": [
    "a = [1, 2, 3, 3, 5]\n",
    "b = [1, 2, 2, 2, 2, 2, 2, 4]\n",
    "\n",
    "dtw(a, b, window=3)"
   ]
  },
  {
   "cell_type": "code",
   "execution_count": null,
   "id": "a5543cb5-fb6b-47f0-a8dc-7f3663e4d444",
   "metadata": {},
   "outputs": [],
   "source": []
  }
 ],
 "metadata": {
  "kernelspec": {
   "display_name": "Python 3",
   "language": "python",
   "name": "python3"
  },
  "language_info": {
   "codemirror_mode": {
    "name": "ipython",
    "version": 3
   },
   "file_extension": ".py",
   "mimetype": "text/x-python",
   "name": "python",
   "nbconvert_exporter": "python",
   "pygments_lexer": "ipython3",
   "version": "3.8.8"
  }
 },
 "nbformat": 4,
 "nbformat_minor": 5
}
