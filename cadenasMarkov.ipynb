{
 "cells": [
  {
   "cell_type": "code",
   "execution_count": 1,
   "id": "8e75cb03-cff6-427e-bbce-79cf1ee2cf8a",
   "metadata": {},
   "outputs": [],
   "source": [
    "#Inicializamos una cadena de Markov\n",
    "\n",
    "import numpy as np\n",
    "\n",
    "# Estado 0: 0.1 probabilidad\n",
    "# Estado 1: 0.8 probabilidad\n",
    "# Estado 2: 0.1 probabilidad\n",
    "\n",
    "p_init = np.array([0.1, 0.8, 0.1])"
   ]
  },
  {
   "cell_type": "code",
   "execution_count": 2,
   "id": "54d93426-46cd-428d-909b-8ca1f6b88b2e",
   "metadata": {},
   "outputs": [
    {
     "data": {
      "text/plain": [
       "array([[0.9 , 0.05, 0.05],\n",
       "       [0.01, 0.9 , 0.09],\n",
       "       [0.07, 0.03, 0.9 ]])"
      ]
     },
     "execution_count": 2,
     "metadata": {},
     "output_type": "execute_result"
    }
   ],
   "source": [
    "#Inicializamos la matriz de transición\n",
    "\n",
    "p_transicion = np.array(\n",
    "    [[0.90, 0.05, 0.05],\n",
    "     [0.01, 0.90, 0.09],\n",
    "     [0.07, 0.03, 0.9]]\n",
    ")\n",
    "p_transicion"
   ]
  },
  {
   "cell_type": "code",
   "execution_count": 3,
   "id": "8bd52032-92ff-4f8b-9b27-21aa8f2fb554",
   "metadata": {},
   "outputs": [],
   "source": [
    "#Solo para confirmar que cada fila suma uno:\n",
    "\n",
    "assert p_transicion[0, :].sum() == 1\n",
    "assert p_transicion[1, :].sum() == 1\n",
    "assert p_transicion[2, :].sum() == 1"
   ]
  },
  {
   "cell_type": "code",
   "execution_count": 4,
   "id": "70f2d792-754f-400a-b706-c2a6472ef796",
   "metadata": {},
   "outputs": [],
   "source": [
    "#Distribución de equilibrio\n",
    "\n",
    "p_transicion_ejemplo = np.array(\n",
    "    [[0.6,  0.2, 0.2],\n",
    "     [0.05, 0.9, 0.05],\n",
    "     [0.1,  0.2, 0.7]]\n",
    ")"
   ]
  },
  {
   "cell_type": "code",
   "execution_count": 5,
   "id": "8559f5b6-6a78-400b-957e-188c03954092",
   "metadata": {},
   "outputs": [
    {
     "data": {
      "text/plain": [
       "array([0.11, 0.76, 0.13])"
      ]
     },
     "execution_count": 5,
     "metadata": {},
     "output_type": "execute_result"
    }
   ],
   "source": [
    "#Para simular la distribución de estados en el siguiente paso de tiempo:\n",
    "\n",
    "p_next = p_init @ p_transicion_ejemplo\n",
    "p_next"
   ]
  },
  {
   "cell_type": "code",
   "execution_count": 6,
   "id": "9012b583-fefe-4c64-9080-55579c0f2e02",
   "metadata": {},
   "outputs": [
    {
     "data": {
      "text/plain": [
       "array([0.117, 0.732, 0.151])"
      ]
     },
     "execution_count": 6,
     "metadata": {},
     "output_type": "execute_result"
    }
   ],
   "source": [
    "#Podemos hacerlo de nuevo para simular la distribución de estados en el siguiente paso de tiempo:\n",
    "\n",
    "p_next = p_next @ p_transicion_ejemplo\n",
    "p_next"
   ]
  },
  {
   "cell_type": "code",
   "execution_count": 7,
   "id": "63e6fc8b-c189-4069-93cf-8b64d99f7150",
   "metadata": {},
   "outputs": [],
   "source": [
    "#Ahora escribamos un ciclo for para automatizar el proceso:\n",
    "\n",
    "p_state_t = [p_init]\n",
    "\n",
    "for i in range(200):  # 200 time steps sorta, kinda, approximates infinite time :)\n",
    "    p_state_t.append(p_state_t[-1] @ p_transicion_ejemplo)"
   ]
  },
  {
   "cell_type": "code",
   "execution_count": 8,
   "id": "ffdc3986-bac5-4486-8083-f2821ab86da7",
   "metadata": {},
   "outputs": [
    {
     "data": {
      "text/html": [
       "<div>\n",
       "<style scoped>\n",
       "    .dataframe tbody tr th:only-of-type {\n",
       "        vertical-align: middle;\n",
       "    }\n",
       "\n",
       "    .dataframe tbody tr th {\n",
       "        vertical-align: top;\n",
       "    }\n",
       "\n",
       "    .dataframe thead th {\n",
       "        text-align: right;\n",
       "    }\n",
       "</style>\n",
       "<table border=\"1\" class=\"dataframe\">\n",
       "  <thead>\n",
       "    <tr style=\"text-align: right;\">\n",
       "      <th></th>\n",
       "      <th>0</th>\n",
       "      <th>1</th>\n",
       "      <th>2</th>\n",
       "    </tr>\n",
       "  </thead>\n",
       "  <tbody>\n",
       "    <tr>\n",
       "      <th>0</th>\n",
       "      <td>0.100000</td>\n",
       "      <td>0.800000</td>\n",
       "      <td>0.10000</td>\n",
       "    </tr>\n",
       "    <tr>\n",
       "      <th>1</th>\n",
       "      <td>0.110000</td>\n",
       "      <td>0.760000</td>\n",
       "      <td>0.13000</td>\n",
       "    </tr>\n",
       "    <tr>\n",
       "      <th>2</th>\n",
       "      <td>0.117000</td>\n",
       "      <td>0.732000</td>\n",
       "      <td>0.15100</td>\n",
       "    </tr>\n",
       "    <tr>\n",
       "      <th>3</th>\n",
       "      <td>0.121900</td>\n",
       "      <td>0.712400</td>\n",
       "      <td>0.16570</td>\n",
       "    </tr>\n",
       "    <tr>\n",
       "      <th>4</th>\n",
       "      <td>0.125330</td>\n",
       "      <td>0.698680</td>\n",
       "      <td>0.17599</td>\n",
       "    </tr>\n",
       "    <tr>\n",
       "      <th>...</th>\n",
       "      <td>...</td>\n",
       "      <td>...</td>\n",
       "      <td>...</td>\n",
       "    </tr>\n",
       "    <tr>\n",
       "      <th>196</th>\n",
       "      <td>0.133333</td>\n",
       "      <td>0.666667</td>\n",
       "      <td>0.20000</td>\n",
       "    </tr>\n",
       "    <tr>\n",
       "      <th>197</th>\n",
       "      <td>0.133333</td>\n",
       "      <td>0.666667</td>\n",
       "      <td>0.20000</td>\n",
       "    </tr>\n",
       "    <tr>\n",
       "      <th>198</th>\n",
       "      <td>0.133333</td>\n",
       "      <td>0.666667</td>\n",
       "      <td>0.20000</td>\n",
       "    </tr>\n",
       "    <tr>\n",
       "      <th>199</th>\n",
       "      <td>0.133333</td>\n",
       "      <td>0.666667</td>\n",
       "      <td>0.20000</td>\n",
       "    </tr>\n",
       "    <tr>\n",
       "      <th>200</th>\n",
       "      <td>0.133333</td>\n",
       "      <td>0.666667</td>\n",
       "      <td>0.20000</td>\n",
       "    </tr>\n",
       "  </tbody>\n",
       "</table>\n",
       "<p>201 rows × 3 columns</p>\n",
       "</div>"
      ],
      "text/plain": [
       "            0         1        2\n",
       "0    0.100000  0.800000  0.10000\n",
       "1    0.110000  0.760000  0.13000\n",
       "2    0.117000  0.732000  0.15100\n",
       "3    0.121900  0.712400  0.16570\n",
       "4    0.125330  0.698680  0.17599\n",
       "..        ...       ...      ...\n",
       "196  0.133333  0.666667  0.20000\n",
       "197  0.133333  0.666667  0.20000\n",
       "198  0.133333  0.666667  0.20000\n",
       "199  0.133333  0.666667  0.20000\n",
       "200  0.133333  0.666667  0.20000\n",
       "\n",
       "[201 rows x 3 columns]"
      ]
     },
     "execution_count": 8,
     "metadata": {},
     "output_type": "execute_result"
    }
   ],
   "source": [
    "#Hagamos la lista p_state_t en un DataFrame de pandas:\n",
    "\n",
    "import pandas as pd\n",
    "\n",
    "state_distributions = pd.DataFrame(p_state_t)\n",
    "state_distributions"
   ]
  },
  {
   "cell_type": "code",
   "execution_count": 9,
   "id": "bee78d20-496d-43d8-9f76-28fe147058a7",
   "metadata": {},
   "outputs": [
    {
     "data": {
      "image/png": "[encoded data removed]",
      "text/plain": [
       "<Figure size 432x288 with 1 Axes>"
      ]
     },
     "metadata": {
      "needs_background": "light"
     },
     "output_type": "display_data"
    }
   ],
   "source": [
    "#Ahora, grafiquemos cómo se ven las distribuciones:\n",
    "\n",
    "import matplotlib.pyplot as plt\n",
    "state_distributions.plot();"
   ]
  },
  {
   "cell_type": "code",
   "execution_count": null,
   "id": "b945f8b6-6ac4-411a-bee9-795fb670da7f",
   "metadata": {},
   "outputs": [],
   "source": []
  }
 ],
 "metadata": {
  "kernelspec": {
   "display_name": "Python 3",
   "language": "python",
   "name": "python3"
  },
  "language_info": {
   "codemirror_mode": {
    "name": "ipython",
    "version": 3
   },
   "file_extension": ".py",
   "mimetype": "text/x-python",
   "name": "python",
   "nbconvert_exporter": "python",
   "pygments_lexer": "ipython3",
   "version": "3.8.8"
  }
 },
 "nbformat": 4,
 "nbformat_minor": 5
}
